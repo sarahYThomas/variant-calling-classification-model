{
 "cells": [
  {
   "cell_type": "markdown",
   "metadata": {},
   "source": [
    "# Enhacment and Experiments"
   ]
  },
  {
   "cell_type": "markdown",
   "metadata": {},
   "source": [
    "###### in this notebook ehnaced our model accuracy from 80% TO 88,2% ,we also did some experiment to do hyperparamter tunning  which increase model accuracy from 88.2% to 88.3%"
   ]
  },
  {
   "cell_type": "markdown",
   "metadata": {},
   "source": [
    "#### installation of  libararies "
   ]
  },
  {
   "cell_type": "code",
   "execution_count": 63,
   "metadata": {
    "colab": {
     "base_uri": "https://localhost:8080/"
    },
    "id": "evBDG8nC1Jic",
    "outputId": "6fad29af-cd21-46f7-edf2-be3975bb4c1f"
   },
   "outputs": [
    {
     "name": "stdout",
     "output_type": "stream",
     "text": [
      "Requirement already satisfied: xgboost in c:\\users\\dell\\anaconda3\\lib\\site-packages (2.0.3)\n",
      "Requirement already satisfied: numpy in c:\\users\\dell\\anaconda3\\lib\\site-packages (from xgboost) (1.24.3)\n",
      "Requirement already satisfied: scipy in c:\\users\\dell\\anaconda3\\lib\\site-packages (from xgboost) (1.11.1)\n"
     ]
    }
   ],
   "source": [
    "!pip install xgboost"
   ]
  },
  {
   "cell_type": "code",
   "execution_count": 64,
   "metadata": {
    "id": "Z7e12AhO1mTN"
   },
   "outputs": [],
   "source": [
    "import pandas as pd\n",
    "import numpy as np\n",
    "import matplotlib.pyplot as plt\n",
    "import scipy.stats as stats\n",
    "%matplotlib inline\n",
    "from scipy import stats\n",
    "from sklearn.preprocessing import LabelEncoder\n",
    "import seaborn as sns\n",
    "import matplotlib.pyplot as plt\n",
    "from scipy.stats import stats\n",
    "from scipy.stats import boxcox\n",
    "from scipy.stats.mstats import winsorize\n",
    "from sklearn.feature_selection import SelectKBest, chi2\n",
    "from sklearn.preprocessing import MinMaxScaler\n",
    "from sklearn.preprocessing import StandardScaler\n",
    "from sklearn.decomposition import PCA\n",
    "from sklearn.model_selection import train_test_split\n",
    "from sklearn.linear_model import LogisticRegression\n",
    "from sklearn.linear_model import Lasso\n",
    "from sklearn.metrics import accuracy_score, precision_score, recall_score, f1_score\n",
    "from sklearn.metrics import confusion_matrix, r2_score, mean_squared_error\n",
    "from sklearn.feature_selection import RFE\n",
    "from sklearn.ensemble import RandomForestClassifier\n",
    "import xgboost as xgb"
   ]
  },
  {
   "cell_type": "markdown",
   "metadata": {},
   "source": [
    "# Data Description and preprocessing "
   ]
  },
  {
   "cell_type": "code",
   "execution_count": 65,
   "metadata": {
    "colab": {
     "base_uri": "https://localhost:8080/"
    },
    "id": "pYhFOv121r-6",
    "outputId": "8af2bcec-44bc-4df5-c898-2aa9b8b4cadb"
   },
   "outputs": [
    {
     "name": "stdout",
     "output_type": "stream",
     "text": [
      "<class 'pandas.core.frame.DataFrame'>\n",
      "RangeIndex: 65188 entries, 0 to 65187\n",
      "Data columns (total 46 columns):\n",
      " #   Column              Non-Null Count  Dtype  \n",
      "---  ------              --------------  -----  \n",
      " 0   CHROM               65188 non-null  object \n",
      " 1   POS                 65188 non-null  int64  \n",
      " 2   REF                 65188 non-null  object \n",
      " 3   ALT                 65188 non-null  object \n",
      " 4   AF_ESP              65188 non-null  float64\n",
      " 5   AF_EXAC             65188 non-null  float64\n",
      " 6   AF_TGP              65188 non-null  float64\n",
      " 7   CLNDISDB            65188 non-null  object \n",
      " 8   CLNDISDBINCL        167 non-null    object \n",
      " 9   CLNDN               65188 non-null  object \n",
      " 10  CLNDNINCL           167 non-null    object \n",
      " 11  CLNHGVS             65188 non-null  object \n",
      " 12  CLNSIGINCL          167 non-null    object \n",
      " 13  CLNVC               65188 non-null  object \n",
      " 14  CLNVI               27659 non-null  object \n",
      " 15  MC                  64342 non-null  object \n",
      " 16  ORIGIN              65188 non-null  int64  \n",
      " 17  SSR                 130 non-null    float64\n",
      " 18  CLASS               65188 non-null  int64  \n",
      " 19  Allele              65188 non-null  object \n",
      " 20  Consequence         65188 non-null  object \n",
      " 21  IMPACT              65188 non-null  object \n",
      " 22  SYMBOL              65172 non-null  object \n",
      " 23  Feature_type        65174 non-null  object \n",
      " 24  Feature             65174 non-null  object \n",
      " 25  BIOTYPE             65172 non-null  object \n",
      " 26  EXON                56295 non-null  object \n",
      " 27  INTRON              8803 non-null   object \n",
      " 28  cDNA_position       56304 non-null  object \n",
      " 29  CDS_position        55233 non-null  object \n",
      " 30  Protein_position    55233 non-null  object \n",
      " 31  Amino_acids         55184 non-null  object \n",
      " 32  Codons              55184 non-null  object \n",
      " 33  DISTANCE            108 non-null    float64\n",
      " 34  STRAND              65174 non-null  float64\n",
      " 35  BAM_EDIT            31969 non-null  object \n",
      " 36  SIFT                24836 non-null  object \n",
      " 37  PolyPhen            24796 non-null  object \n",
      " 38  MOTIF_NAME          2 non-null      object \n",
      " 39  MOTIF_POS           2 non-null      float64\n",
      " 40  HIGH_INF_POS        2 non-null      object \n",
      " 41  MOTIF_SCORE_CHANGE  2 non-null      float64\n",
      " 42  LoFtool             60975 non-null  float64\n",
      " 43  CADD_PHRED          64096 non-null  float64\n",
      " 44  CADD_RAW            64096 non-null  float64\n",
      " 45  BLOSUM62            25593 non-null  float64\n",
      "dtypes: float64(12), int64(3), object(31)\n",
      "memory usage: 22.9+ MB\n"
     ]
    }
   ],
   "source": [
    "#loading data set\n",
    "df= pd.read_csv('clinvar_conflicting.csv')\n",
    "pd.options.display.max_columns = None\n",
    "\n",
    "#Descrption of dataset cloumns\n",
    "df.info()# provide a description Ifno about records ,number of features ,datatype of columns"
   ]
  },
  {
   "cell_type": "code",
   "execution_count": 66,
   "metadata": {
    "colab": {
     "base_uri": "https://localhost:8080/"
    },
    "id": "2AKjRWjy198y",
    "outputId": "39f51b51-2aae-4164-e13f-6fce9c42a6be"
   },
   "outputs": [
    {
     "name": "stdout",
     "output_type": "stream",
     "text": [
      "<class 'pandas.core.frame.DataFrame'>\n",
      "RangeIndex: 46 entries, 0 to 45\n",
      "Data columns (total 5 columns):\n",
      " #   Column               Non-Null Count  Dtype  \n",
      "---  ------               --------------  -----  \n",
      " 0   variable_name        46 non-null     object \n",
      " 1   data_type            46 non-null     object \n",
      " 2   missing_percentage   46 non-null     float64\n",
      " 3   flag                 46 non-null     object \n",
      " 4   unique_values_count  46 non-null     object \n",
      "dtypes: float64(1), object(4)\n",
      "memory usage: 1.9+ KB\n",
      "         variable_name data_type  missing_percentage         flag  \\\n",
      "0                CHROM    object            0.000000  categorical   \n",
      "1                  POS     int64            0.000000      numeric   \n",
      "2                  REF    object            0.000000  categorical   \n",
      "3                  ALT    object            0.000000  categorical   \n",
      "4               AF_ESP   float64            0.000000      numeric   \n",
      "5              AF_EXAC   float64            0.000000      numeric   \n",
      "6               AF_TGP   float64            0.000000      numeric   \n",
      "7             CLNDISDB    object            0.000000  categorical   \n",
      "8         CLNDISDBINCL    object           99.743818  categorical   \n",
      "9                CLNDN    object            0.000000  categorical   \n",
      "10           CLNDNINCL    object           99.743818  categorical   \n",
      "11             CLNHGVS    object            0.000000  categorical   \n",
      "12          CLNSIGINCL    object           99.743818  categorical   \n",
      "13               CLNVC    object            0.000000  categorical   \n",
      "14               CLNVI    object           57.570412  categorical   \n",
      "15                  MC    object            1.297785  categorical   \n",
      "16              ORIGIN     int64            0.000000      numeric   \n",
      "17                 SSR   float64           99.800577      numeric   \n",
      "18               CLASS     int64            0.000000      numeric   \n",
      "19              Allele    object            0.000000  categorical   \n",
      "20         Consequence    object            0.000000  categorical   \n",
      "21              IMPACT    object            0.000000  categorical   \n",
      "22              SYMBOL    object            0.024544  categorical   \n",
      "23        Feature_type    object            0.021476  categorical   \n",
      "24             Feature    object            0.021476  categorical   \n",
      "25             BIOTYPE    object            0.024544  categorical   \n",
      "26                EXON    object           13.642081  categorical   \n",
      "27              INTRON    object           86.495981  categorical   \n",
      "28       cDNA_position    object           13.628275  categorical   \n",
      "29        CDS_position    object           15.271216  categorical   \n",
      "30    Protein_position    object           15.271216  categorical   \n",
      "31         Amino_acids    object           15.346383  categorical   \n",
      "32              Codons    object           15.346383  categorical   \n",
      "33            DISTANCE   float64           99.834325      numeric   \n",
      "34              STRAND   float64            0.021476      numeric   \n",
      "35            BAM_EDIT    object           50.958765  categorical   \n",
      "36                SIFT    object           61.900963  categorical   \n",
      "37            PolyPhen    object           61.962324  categorical   \n",
      "38          MOTIF_NAME    object           99.996932  categorical   \n",
      "39           MOTIF_POS   float64           99.996932      numeric   \n",
      "40        HIGH_INF_POS    object           99.996932  categorical   \n",
      "41  MOTIF_SCORE_CHANGE   float64           99.996932      numeric   \n",
      "42             LoFtool   float64            6.462846      numeric   \n",
      "43          CADD_PHRED   float64            1.675155      numeric   \n",
      "44            CADD_RAW   float64            1.675155      numeric   \n",
      "45            BLOSUM62   float64           60.739707      numeric   \n",
      "\n",
      "   unique_values_count  \n",
      "0                   38  \n",
      "1                63115  \n",
      "2                  866  \n",
      "3                  458  \n",
      "4                 2842  \n",
      "5                 6667  \n",
      "6                 2087  \n",
      "7                 9234  \n",
      "8                   93  \n",
      "9                 9260  \n",
      "10                 101  \n",
      "11               65188  \n",
      "12                 137  \n",
      "13                   7  \n",
      "14               27654  \n",
      "15                  90  \n",
      "16                  31  \n",
      "17                   2  \n",
      "18                   2  \n",
      "19                 374  \n",
      "20                  48  \n",
      "21                   4  \n",
      "22                2328  \n",
      "23                   2  \n",
      "24                2369  \n",
      "25                   2  \n",
      "26                3264  \n",
      "27                1929  \n",
      "28               13970  \n",
      "29               13663  \n",
      "30                7339  \n",
      "31                1262  \n",
      "32                2220  \n",
      "33                  96  \n",
      "34                   2  \n",
      "35                   2  \n",
      "36                   4  \n",
      "37                   4  \n",
      "38                   2  \n",
      "39                   1  \n",
      "40                   1  \n",
      "41                   2  \n",
      "42                1195  \n",
      "43                9324  \n",
      "44               63803  \n",
      "45                   6  \n"
     ]
    }
   ],
   "source": [
    "var_df = pd.DataFrame(columns=['variable_name', 'data_type', 'missing_percentage', 'flag', 'unique_values_count'])\n",
    "\n",
    "missing_percentages = df.isnull().mean() * 100\n",
    "missing_percentages = missing_percentages.sort_values(ascending=False)\n",
    "\n",
    "# create variables and flag as numeric or categorial\n",
    "for col in df.columns:\n",
    "    data_type = df[col].dtype\n",
    "    missing_percentage = missing_percentages[col]\n",
    "    unique_values_count = df[col].nunique()\n",
    "    if data_type == 'int64' or data_type == 'float64':\n",
    "        flag = 'numeric'\n",
    "    else:\n",
    "        flag = 'categorical'\n",
    "\n",
    "\n",
    " # concat values obtained into a new dataframe called 'var_df'\n",
    "    var_df = pd.concat([var_df, pd.DataFrame({'variable_name': [col], 'data_type': [data_type], 'missing_percentage': [missing_percentage], 'flag': [flag], 'unique_values_count': [unique_values_count]})], ignore_index=True)\n",
    "\n",
    "var_df.info()\n",
    "print(var_df)"
   ]
  },
  {
   "cell_type": "markdown",
   "metadata": {},
   "source": [
    "# Handling missing values and ouliers "
   ]
  },
  {
   "cell_type": "code",
   "execution_count": 67,
   "metadata": {
    "colab": {
     "base_uri": "https://localhost:8080/"
    },
    "id": "t7YXCztk2EYE",
    "outputId": "62479c50-394a-48c8-e02e-176493c77f20"
   },
   "outputs": [
    {
     "name": "stdout",
     "output_type": "stream",
     "text": [
      "<class 'pandas.core.frame.DataFrame'>\n",
      "RangeIndex: 65188 entries, 0 to 65187\n",
      "Data columns (total 31 columns):\n",
      " #   Column            Non-Null Count  Dtype  \n",
      "---  ------            --------------  -----  \n",
      " 0   CHROM             65188 non-null  object \n",
      " 1   POS               65188 non-null  int64  \n",
      " 2   REF               65188 non-null  object \n",
      " 3   ALT               65188 non-null  object \n",
      " 4   AF_ESP            65188 non-null  float64\n",
      " 5   AF_EXAC           65188 non-null  float64\n",
      " 6   AF_TGP            65188 non-null  float64\n",
      " 7   CLNDISDB          65188 non-null  object \n",
      " 8   CLNDN             65188 non-null  object \n",
      " 9   CLNHGVS           65188 non-null  object \n",
      " 10  CLNVC             65188 non-null  object \n",
      " 11  MC                64342 non-null  object \n",
      " 12  ORIGIN            65188 non-null  int64  \n",
      " 13  CLASS             65188 non-null  int64  \n",
      " 14  Allele            65188 non-null  object \n",
      " 15  Consequence       65188 non-null  object \n",
      " 16  IMPACT            65188 non-null  object \n",
      " 17  SYMBOL            65172 non-null  object \n",
      " 18  Feature_type      65174 non-null  object \n",
      " 19  Feature           65174 non-null  object \n",
      " 20  BIOTYPE           65172 non-null  object \n",
      " 21  EXON              56295 non-null  object \n",
      " 22  cDNA_position     56304 non-null  object \n",
      " 23  CDS_position      55233 non-null  object \n",
      " 24  Protein_position  55233 non-null  object \n",
      " 25  Amino_acids       55184 non-null  object \n",
      " 26  Codons            55184 non-null  object \n",
      " 27  STRAND            65174 non-null  float64\n",
      " 28  LoFtool           60975 non-null  float64\n",
      " 29  CADD_PHRED        64096 non-null  float64\n",
      " 30  CADD_RAW          64096 non-null  float64\n",
      "dtypes: float64(7), int64(3), object(21)\n",
      "memory usage: 15.4+ MB\n"
     ]
    }
   ],
   "source": [
    "# on the original data set\n",
    "threshold = 50\n",
    "\n",
    "missing_percentages = df.isnull().mean() * 100\n",
    "columns_to_drop = missing_percentages[missing_percentages > threshold].index.tolist()\n",
    "\n",
    "df = df.drop(columns=columns_to_drop)\n",
    "\n",
    "df.info()"
   ]
  },
  {
   "cell_type": "code",
   "execution_count": null,
   "metadata": {
    "id": "brMrjwcg2JrR"
   },
   "outputs": [],
   "source": []
  },
  {
   "cell_type": "code",
   "execution_count": 68,
   "metadata": {
    "colab": {
     "base_uri": "https://localhost:8080/"
    },
    "id": "04XVRiIW2TX4",
    "outputId": "8a681fe2-3acf-40c8-ae14-a29b2a487e0c"
   },
   "outputs": [
    {
     "name": "stdout",
     "output_type": "stream",
     "text": [
      "Columns with missing values:\n",
      "MC: 846 missing values\n",
      "SYMBOL: 16 missing values\n",
      "Feature_type: 14 missing values\n",
      "Feature: 14 missing values\n",
      "BIOTYPE: 16 missing values\n",
      "EXON: 8893 missing values\n",
      "cDNA_position: 8884 missing values\n",
      "CDS_position: 9955 missing values\n",
      "Protein_position: 9955 missing values\n",
      "Amino_acids: 10004 missing values\n",
      "Codons: 10004 missing values\n",
      "STRAND: 14 missing values\n",
      "LoFtool: 4213 missing values\n",
      "CADD_PHRED: 1092 missing values\n",
      "CADD_RAW: 1092 missing values\n",
      "Mean of 'LoFtool' column: 0.343751550888282\n",
      "\n",
      "Updated DataFrame information:\n",
      "MC: 0 missing values\n",
      "SYMBOL: 0 missing values\n",
      "Feature_type: 0 missing values\n",
      "Feature: 0 missing values\n",
      "BIOTYPE: 0 missing values\n",
      "EXON: 0 missing values\n",
      "cDNA_position: 0 missing values\n",
      "CDS_position: 0 missing values\n",
      "Protein_position: 0 missing values\n",
      "Amino_acids: 0 missing values\n",
      "Codons: 0 missing values\n",
      "STRAND: 0 missing values\n",
      "LoFtool: 6 missing values\n",
      "CADD_PHRED: 0 missing values\n",
      "CADD_RAW: 0 missing values\n"
     ]
    }
   ],
   "source": [
    "# Dictionary to store columns with missing values\n",
    "still_missing = {}\n",
    "\n",
    "# Check for missing values in each column\n",
    "for column in df.columns:\n",
    "    if df[column].isnull().any():\n",
    "        still_missing[column] = df[column]\n",
    "\n",
    "# Print columns with missing values\n",
    "print(\"Columns with missing values:\")\n",
    "for column, values in still_missing.items():\n",
    "    print(f\"{column}: {values.isnull().sum()} missing values\")\n",
    "\n",
    "# Loop through each column in the still_missing dictionary\n",
    "for column, values in still_missing.items():\n",
    "    if values.dtype == 'object':  # Check if the column dtype is object\n",
    "        # Fill missing values in object columns with forward fill (ffill)\n",
    "        still_missing[column] = values.fillna(method='ffill')\n",
    "    elif values.dtype == 'float64':  # Check if the column dtype is float64\n",
    "        # Interpolate missing values in float64 columns\n",
    "        still_missing[column] = values.interpolate()\n",
    "\n",
    "# Calculate the mean of the 'LoFtool' column\n",
    "try:\n",
    "    loftool_mean = still_missing['LoFtool'].mean()\n",
    "    print(\"Mean of 'LoFtool' column:\", loftool_mean)\n",
    "    # Rest of your code using loftool_mean\n",
    "except KeyError:\n",
    "    print(\"'LoFtool' column not found. Skipping mean calculation.\")\n",
    "    # Handle the case where the column is missing\n",
    "\n",
    "# Check the updated DataFrame information\n",
    "print(\"\\nUpdated DataFrame information:\")\n",
    "for column, values in still_missing.items():\n",
    "    print(f\"{column}: {values.isnull().sum()} missing values\")"
   ]
  },
  {
   "cell_type": "code",
   "execution_count": 69,
   "metadata": {
    "colab": {
     "base_uri": "https://localhost:8080/"
    },
    "id": "YVbAlWtX2aDQ",
    "outputId": "a7526fc1-3e2d-4406-9728-d5e17e2e22ec"
   },
   "outputs": [
    {
     "name": "stdout",
     "output_type": "stream",
     "text": [
      "<class 'pandas.core.frame.DataFrame'>\n",
      "RangeIndex: 65188 entries, 0 to 65187\n",
      "Data columns (total 31 columns):\n",
      " #   Column            Non-Null Count  Dtype  \n",
      "---  ------            --------------  -----  \n",
      " 0   CHROM             65188 non-null  object \n",
      " 1   POS               65188 non-null  int64  \n",
      " 2   REF               65188 non-null  object \n",
      " 3   ALT               65188 non-null  object \n",
      " 4   AF_ESP            65188 non-null  float64\n",
      " 5   AF_EXAC           65188 non-null  float64\n",
      " 6   AF_TGP            65188 non-null  float64\n",
      " 7   CLNDISDB          65188 non-null  object \n",
      " 8   CLNDN             65188 non-null  object \n",
      " 9   CLNHGVS           65188 non-null  object \n",
      " 10  CLNVC             65188 non-null  object \n",
      " 11  MC                65188 non-null  object \n",
      " 12  ORIGIN            65188 non-null  int64  \n",
      " 13  CLASS             65188 non-null  int64  \n",
      " 14  Allele            65188 non-null  object \n",
      " 15  Consequence       65188 non-null  object \n",
      " 16  IMPACT            65188 non-null  object \n",
      " 17  SYMBOL            65188 non-null  object \n",
      " 18  Feature_type      65188 non-null  object \n",
      " 19  Feature           65188 non-null  object \n",
      " 20  BIOTYPE           65188 non-null  object \n",
      " 21  EXON              65188 non-null  object \n",
      " 22  cDNA_position     65188 non-null  object \n",
      " 23  CDS_position      65188 non-null  object \n",
      " 24  Protein_position  65188 non-null  object \n",
      " 25  Amino_acids       65188 non-null  object \n",
      " 26  Codons            65188 non-null  object \n",
      " 27  STRAND            65188 non-null  float64\n",
      " 28  LoFtool           65182 non-null  float64\n",
      " 29  CADD_PHRED        65188 non-null  float64\n",
      " 30  CADD_RAW          65188 non-null  float64\n",
      "dtypes: float64(7), int64(3), object(21)\n",
      "memory usage: 15.4+ MB\n"
     ]
    }
   ],
   "source": [
    "df.update(still_missing)\n",
    "df.info()"
   ]
  },
  {
   "cell_type": "code",
   "execution_count": 70,
   "metadata": {
    "colab": {
     "base_uri": "https://localhost:8080/"
    },
    "id": "85VtPVcQ2kYE",
    "outputId": "a5e24979-f6b1-4939-e969-c35cd8420289"
   },
   "outputs": [
    {
     "name": "stdout",
     "output_type": "stream",
     "text": [
      "<class 'pandas.core.frame.DataFrame'>\n",
      "RangeIndex: 65188 entries, 0 to 65187\n",
      "Data columns (total 31 columns):\n",
      " #   Column            Non-Null Count  Dtype  \n",
      "---  ------            --------------  -----  \n",
      " 0   CHROM             65188 non-null  object \n",
      " 1   POS               65188 non-null  int64  \n",
      " 2   REF               65188 non-null  object \n",
      " 3   ALT               65188 non-null  object \n",
      " 4   AF_ESP            65188 non-null  float64\n",
      " 5   AF_EXAC           65188 non-null  float64\n",
      " 6   AF_TGP            65188 non-null  float64\n",
      " 7   CLNDISDB          65188 non-null  object \n",
      " 8   CLNDN             65188 non-null  object \n",
      " 9   CLNHGVS           65188 non-null  object \n",
      " 10  CLNVC             65188 non-null  object \n",
      " 11  MC                65188 non-null  object \n",
      " 12  ORIGIN            65188 non-null  int64  \n",
      " 13  CLASS             65188 non-null  int64  \n",
      " 14  Allele            65188 non-null  object \n",
      " 15  Consequence       65188 non-null  object \n",
      " 16  IMPACT            65188 non-null  object \n",
      " 17  SYMBOL            65188 non-null  object \n",
      " 18  Feature_type      65188 non-null  object \n",
      " 19  Feature           65188 non-null  object \n",
      " 20  BIOTYPE           65188 non-null  object \n",
      " 21  EXON              65188 non-null  object \n",
      " 22  cDNA_position     65188 non-null  object \n",
      " 23  CDS_position      65188 non-null  object \n",
      " 24  Protein_position  65188 non-null  object \n",
      " 25  Amino_acids       65188 non-null  object \n",
      " 26  Codons            65188 non-null  object \n",
      " 27  STRAND            65188 non-null  float64\n",
      " 28  LoFtool           65182 non-null  float64\n",
      " 29  CADD_PHRED        65188 non-null  float64\n",
      " 30  CADD_RAW          65188 non-null  float64\n",
      "dtypes: float64(7), int64(3), object(21)\n",
      "memory usage: 15.4+ MB\n"
     ]
    }
   ],
   "source": [
    "for column in df.columns:\n",
    "    # Check if the column has 'int32' data type\n",
    "    if df[column].dtype == 'int32':\n",
    "        # Change 'int32' to 'int64'\n",
    "        df[column] = df[column].astype('int64')\n",
    "\n",
    "df.info()"
   ]
  },
  {
   "cell_type": "code",
   "execution_count": 71,
   "metadata": {
    "colab": {
     "base_uri": "https://localhost:8080/",
     "height": 1000
    },
    "id": "Y_HsPC8-2rZg",
    "outputId": "4c0a9e44-2f25-4edf-98f4-808e1e49fef2"
   },
   "outputs": [
    {
     "data": {
      "image/png": "[encoded data removed]",
      "text/plain": [
       "<Figure size 1500x2000 with 10 Axes>"
      ]
     },
     "metadata": {},
     "output_type": "display_data"
    }
   ],
   "source": [
    "numerical_columns = df.select_dtypes(include=['number']).columns\n",
    "\n",
    "# Calculate the number of rows and columns for subplots\n",
    "num_columns = 3\n",
    "num_rows = (len(numerical_columns) - 1) // num_columns + 1\n",
    "\n",
    "# Create subplots\n",
    "fig, axes = plt.subplots(num_rows, num_columns, figsize=(15, 5 * num_rows))\n",
    "\n",
    "# Iterate through numerical columns and plot boxplots\n",
    "for i, column in enumerate(numerical_columns):\n",
    "    row = i // num_columns\n",
    "    col = i % num_columns\n",
    "    ax = axes[row][col] if num_rows > 1 else axes[col]  # Adjust if there's only one row\n",
    "    df.boxplot(column=column, ax=ax)\n",
    "    ax.set_title(column)\n",
    "\n",
    "# Remove any empty subplots\n",
    "for j in range(len(numerical_columns), num_rows * num_columns):\n",
    "    fig.delaxes(axes.flatten()[j])\n",
    "\n",
    "# Adjust layout and display the plots\n",
    "plt.tight_layout()\n",
    "plt.show()"
   ]
  },
  {
   "cell_type": "code",
   "execution_count": 72,
   "metadata": {
    "colab": {
     "base_uri": "https://localhost:8080/",
     "height": 1000
    },
    "id": "9C8ZhFBc2w9i",
    "outputId": "efe5d92c-db59-4c65-eddb-efb556c5de65"
   },
   "outputs": [
    {
     "data": {
      "image/png": "[encoded data removed]",
      "text/plain": [
       "<Figure size 1500x2000 with 10 Axes>"
      ]
     },
     "metadata": {},
     "output_type": "display_data"
    }
   ],
   "source": [
    "import pandas as pd\n",
    "import numpy as np\n",
    "import matplotlib.pyplot as plt\n",
    "\n",
    "# Function to cap outliers using IQR\n",
    "def cap_outliers_iqr(df):\n",
    "    df_capped = df.copy()\n",
    "    Q1 = df.quantile(0.25)\n",
    "    Q3 = df.quantile(0.75)\n",
    "    IQR = Q3 - Q1\n",
    "    lower_bound = Q1 - 1.5 * IQR\n",
    "    upper_bound = Q3 + 1.5 * IQR\n",
    "\n",
    "    # Cap the outliers for each column\n",
    "    for column in df.columns:\n",
    "        df_capped[column] = np.where(df[column] < lower_bound[column], lower_bound[column], df[column])\n",
    "        df_capped[column] = np.where(df_capped[column] > upper_bound[column], upper_bound[column], df_capped[column])\n",
    "\n",
    "    return df_capped\n",
    "\n",
    "\n",
    "\n",
    "# Separate numerical columns\n",
    "numerical_columns = df.select_dtypes(include=['number'])\n",
    "\n",
    "# Cap the outliers\n",
    "df_capped_numerical = cap_outliers_iqr(numerical_columns)\n",
    "\n",
    "# Fill missing values with the mean of the columns (if there are any missing values)\n",
    "df_capped_numerical = df_capped_numerical.fillna(df_capped_numerical.mean())\n",
    "\n",
    "# Update the original DataFrame with capped numerical columns\n",
    "df_updated = df.copy()\n",
    "df_updated[numerical_columns.columns] = df_capped_numerical\n",
    "\n",
    "# Calculate the number of rows and columns for subplots\n",
    "num_columns = 3\n",
    "num_rows = (len(numerical_columns.columns) - 1) // num_columns + 1\n",
    "\n",
    "# Create subplots\n",
    "fig, axes = plt.subplots(num_rows, num_columns, figsize=(15, 5 * num_rows))\n",
    "\n",
    "# Iterate through columns and plot boxplots\n",
    "for i, column in enumerate(numerical_columns.columns):\n",
    "    row = i // num_columns\n",
    "    col = i % num_columns\n",
    "    ax = axes[row][col] if num_rows > 1 else axes[col]  # Adjust if there's only one row\n",
    "    df_updated.boxplot(column=column, ax=ax)\n",
    "    ax.set_title(column)\n",
    "\n",
    "# Remove any empty subplots\n",
    "for j in range(len(numerical_columns.columns), num_rows * num_columns):\n",
    "    fig.delaxes(axes.flatten()[j])\n",
    "\n",
    "# Adjust layout and display the plots\n",
    "plt.tight_layout()\n",
    "plt.show()\n",
    "\n",
    "\n",
    "\n"
   ]
  },
  {
   "cell_type": "code",
   "execution_count": 73,
   "metadata": {
    "colab": {
     "base_uri": "https://localhost:8080/"
    },
    "id": "cU9kOfri25Zt",
    "outputId": "e74225a3-6812-48d4-90c4-599549d61d69"
   },
   "outputs": [
    {
     "name": "stdout",
     "output_type": "stream",
     "text": [
      "CHROM               0\n",
      "POS                 0\n",
      "REF                 0\n",
      "ALT                 0\n",
      "AF_ESP              0\n",
      "AF_EXAC             0\n",
      "AF_TGP              0\n",
      "CLNDISDB            0\n",
      "CLNDN               0\n",
      "CLNHGVS             0\n",
      "CLNVC               0\n",
      "MC                  0\n",
      "ORIGIN              0\n",
      "CLASS               0\n",
      "Allele              0\n",
      "Consequence         0\n",
      "IMPACT              0\n",
      "SYMBOL              0\n",
      "Feature_type        0\n",
      "Feature             0\n",
      "BIOTYPE             0\n",
      "EXON                0\n",
      "cDNA_position       0\n",
      "CDS_position        0\n",
      "Protein_position    0\n",
      "Amino_acids         0\n",
      "Codons              0\n",
      "STRAND              0\n",
      "LoFtool             0\n",
      "CADD_PHRED          0\n",
      "CADD_RAW            0\n",
      "dtype: int64\n"
     ]
    }
   ],
   "source": [
    "# Assume df_updated is your DataFrame\n",
    "df_updated = df_updated.dropna()\n",
    "\n",
    "# Verify that there are no missing values\n",
    "print(df_updated.isnull().sum())"
   ]
  },
  {
   "cell_type": "markdown",
   "metadata": {},
   "source": [
    "## Drop unneccsary columns "
   ]
  },
  {
   "cell_type": "code",
   "execution_count": 74,
   "metadata": {
    "id": "xrZFpVU92-Ld"
   },
   "outputs": [],
   "source": [
    "result_df= df.drop(['EXON', 'CLNDISDB','Feature',\n",
    "         'MC','CADD_RAW','CHROM'], axis=1)"
   ]
  },
  {
   "cell_type": "code",
   "execution_count": 75,
   "metadata": {
    "colab": {
     "base_uri": "https://localhost:8080/"
    },
    "id": "n9AXK8Tx3zkQ",
    "outputId": "5e757614-fd12-4435-e7d7-b04922d9b289"
   },
   "outputs": [
    {
     "name": "stdout",
     "output_type": "stream",
     "text": [
      "<class 'pandas.core.frame.DataFrame'>\n",
      "RangeIndex: 65188 entries, 0 to 65187\n",
      "Data columns (total 25 columns):\n",
      " #   Column            Non-Null Count  Dtype  \n",
      "---  ------            --------------  -----  \n",
      " 0   POS               65188 non-null  int64  \n",
      " 1   REF               65188 non-null  object \n",
      " 2   ALT               65188 non-null  object \n",
      " 3   AF_ESP            65188 non-null  float64\n",
      " 4   AF_EXAC           65188 non-null  float64\n",
      " 5   AF_TGP            65188 non-null  float64\n",
      " 6   CLNDN             65188 non-null  object \n",
      " 7   CLNHGVS           65188 non-null  object \n",
      " 8   CLNVC             65188 non-null  object \n",
      " 9   ORIGIN            65188 non-null  int64  \n",
      " 10  CLASS             65188 non-null  int64  \n",
      " 11  Allele            65188 non-null  object \n",
      " 12  Consequence       65188 non-null  object \n",
      " 13  IMPACT            65188 non-null  object \n",
      " 14  SYMBOL            65188 non-null  object \n",
      " 15  Feature_type      65188 non-null  object \n",
      " 16  BIOTYPE           65188 non-null  object \n",
      " 17  cDNA_position     65188 non-null  object \n",
      " 18  CDS_position      65188 non-null  object \n",
      " 19  Protein_position  65188 non-null  object \n",
      " 20  Amino_acids       65188 non-null  object \n",
      " 21  Codons            65188 non-null  object \n",
      " 22  STRAND            65188 non-null  float64\n",
      " 23  LoFtool           65182 non-null  float64\n",
      " 24  CADD_PHRED        65188 non-null  float64\n",
      "dtypes: float64(6), int64(3), object(16)\n",
      "memory usage: 12.4+ MB\n"
     ]
    }
   ],
   "source": [
    "result_df.info()"
   ]
  },
  {
   "cell_type": "markdown",
   "metadata": {},
   "source": []
  },
  {
   "cell_type": "code",
   "execution_count": 76,
   "metadata": {
    "colab": {
     "base_uri": "https://localhost:8080/",
     "height": 430
    },
    "id": "3fQ1tEcw5LJB",
    "outputId": "2b49c523-5e48-49fa-9803-526188e0d959"
   },
   "outputs": [
    {
     "data": {
      "image/png": "[encoded data removed]",
      "text/plain": [
       "<Figure size 640x480 with 1 Axes>"
      ]
     },
     "metadata": {},
     "output_type": "display_data"
    }
   ],
   "source": [
    "# plot the labels counts\n",
    "from matplotlib import pyplot as plt\n",
    "import seaborn as sns\n",
    "result_df.groupby('CLASS').size().plot(kind='barh', color=sns.palettes.mpl_palette('Dark2'))\n",
    "plt.gca().spines[['top', 'right',]].set_visible(False)\n"
   ]
  },
  {
   "cell_type": "code",
   "execution_count": 77,
   "metadata": {
    "colab": {
     "base_uri": "https://localhost:8080/"
    },
    "id": "SVKx2n4Y5NKl",
    "outputId": "2f944c45-b00f-4269-f560-94832eb08df7"
   },
   "outputs": [
    {
     "data": {
      "text/plain": [
       "0        0\n",
       "1        0\n",
       "2        1\n",
       "3        0\n",
       "4        0\n",
       "        ..\n",
       "65183    0\n",
       "65184    1\n",
       "65185    0\n",
       "65186    0\n",
       "65187    0\n",
       "Name: CLASS, Length: 65188, dtype: int64"
      ]
     },
     "execution_count": 77,
     "metadata": {},
     "output_type": "execute_result"
    }
   ],
   "source": [
    "result_df['CLASS']"
   ]
  },
  {
   "cell_type": "markdown",
   "metadata": {},
   "source": [
    "# Encoding Categorical values  "
   ]
  },
  {
   "cell_type": "code",
   "execution_count": 78,
   "metadata": {
    "id": "vSGHEU5k5R4o"
   },
   "outputs": [],
   "source": [
    "s_encoder = LabelEncoder()#ref\n",
    "#chrom_encoder = LabelEncoder()#CHROM\n",
    "ale_oencoder= LabelEncoder()#alet\n",
    "CLNHGVS_encoder = LabelEncoder()#  CLNHGVS\n",
    "CLNDN_encoder = LabelEncoder()#CLNDN\n",
    "CLNVC_encoder = LabelEncoder()# CLNVC\n",
    "Allele_encoder = LabelEncoder()#Allele\n",
    "Consequence_encoder = LabelEncoder()#Consequence\n",
    "IMPACT_encoder= LabelEncoder()#IMPACT\n",
    "SYMBOL_encoder = LabelEncoder()#SYMBOL\n",
    "Feature_type_encoder = LabelEncoder() #Feature_type\n",
    "BIOTYPE_encoder = LabelEncoder()# BIOTYPE\n",
    "cDNA_position_encoder=  LabelEncoder()#cDNA_position\n",
    "CDS_position_encoder = LabelEncoder()#CDS_position\n",
    "Protein_position_encoder = LabelEncoder()#Protein_position\n",
    "Amino_acids_encoder = LabelEncoder()# Amino_acids\n",
    "Codons_encoder = LabelEncoder()# Codons"
   ]
  },
  {
   "cell_type": "code",
   "execution_count": 79,
   "metadata": {
    "id": "wULK0O4_5YXU"
   },
   "outputs": [],
   "source": [
    "result_df['REF'] = s_encoder.fit_transform(result_df['REF'])\n",
    "result_df['ALT'] = ale_oencoder.fit_transform(result_df['ALT'])\n",
    "result_df['CLNDN'] = CLNDN_encoder.fit_transform(result_df['CLNDN'])\n",
    "result_df['CLNHGVS'] = CLNHGVS_encoder.fit_transform(result_df['CLNHGVS'])\n",
    "result_df['CLNVC'] = CLNVC_encoder.fit_transform(result_df['CLNVC'])\n",
    "result_df['Allele'] = Allele_encoder.fit_transform(result_df['Allele'])\n",
    "result_df['Consequence'] = Consequence_encoder.fit_transform(result_df['Consequence'])\n",
    "result_df['IMPACT'] = IMPACT_encoder.fit_transform(result_df['IMPACT'])\n",
    "result_df['SYMBOL'] = SYMBOL_encoder.fit_transform(result_df['SYMBOL'])\n",
    "result_df['Feature_type'] = Feature_type_encoder.fit_transform(result_df['Feature_type'])\n",
    "result_df['BIOTYPE'] = BIOTYPE_encoder.fit_transform(result_df['BIOTYPE'])\n",
    "result_df['cDNA_position'] = cDNA_position_encoder.fit_transform(result_df['cDNA_position'])\n",
    "result_df['Protein_position'] =Protein_position_encoder.fit_transform(result_df['Protein_position'])\n",
    "result_df['CDS_position'] =CDS_position_encoder.fit_transform(result_df['CDS_position'])\n",
    "result_df['Codons'] =Codons_encoder.fit_transform(result_df['Protein_position'])\n",
    "result_df['Amino_acids'] =Amino_acids_encoder.fit_transform(result_df['Amino_acids'])"
   ]
  },
  {
   "cell_type": "code",
   "execution_count": 80,
   "metadata": {
    "id": "M79FQNZc5ewx"
   },
   "outputs": [],
   "source": [
    "# Calculate mean of 'AF_ESP', 'AF_EXAC', and 'AF_TGP'\n",
    "result_df['Allele_Freq_Mean'] = result_df[['AF_ESP', 'AF_EXAC', 'AF_TGP']].mean(axis=1)\n",
    "\n",
    "# Calculate mean of 'LoFtool' and 'CADD_PHRED'\n",
    "result_df['Pathogenicity_Score_Mean'] = result_df[['LoFtool', 'CADD_PHRED']].mean(axis=1)"
   ]
  },
  {
   "cell_type": "code",
   "execution_count": 81,
   "metadata": {
    "colab": {
     "base_uri": "https://localhost:8080/"
    },
    "id": "K-dbyZ_t5k-5",
    "outputId": "08a2da36-90d4-44dd-dc6d-6b823a11e017"
   },
   "outputs": [
    {
     "name": "stdout",
     "output_type": "stream",
     "text": [
      "class 0: (48754, 27)\n",
      "class 1: (16434, 27)\n"
     ]
    }
   ],
   "source": [
    "#class count\n",
    "class_count_0, class_count_1 = result_df['CLASS'].value_counts()\n",
    "\n",
    "# Separate class\n",
    "class_0 = result_df[result_df['CLASS'] == 0]\n",
    "class_1 = result_df[result_df['CLASS'] == 1]# print the shape of the class\n",
    "print('class 0:', class_0.shape)\n",
    "print('class 1:', class_1.shape)"
   ]
  },
  {
   "cell_type": "markdown",
   "metadata": {},
   "source": [
    "## 1.handling calsses unbalance based on calss weights \n",
    "\n"
   ]
  },
  {
   "cell_type": "markdown",
   "metadata": {},
   "source": [
    "## 2.spliting ,fitting and accuracy calculation"
   ]
  },
  {
   "cell_type": "code",
   "execution_count": 82,
   "metadata": {
    "id": "ZxhHcOvW5q2R"
   },
   "outputs": [],
   "source": [
    "from sklearn.linear_model import LogisticRegression\n",
    "from sklearn.svm import SVC\n",
    "from sklearn.ensemble import RandomForestClassifier, GradientBoostingClassifier, AdaBoostClassifier\n",
    "from sklearn.neighbors import KNeighborsClassifier\n",
    "from sklearn.tree import DecisionTreeClassifier\n",
    "from sklearn.model_selection import train_test_split\n",
    "from imblearn.over_sampling import RandomOverSampler\n",
    "from sklearn.impute import SimpleImputer\n",
    "from sklearn.preprocessing import StandardScaler"
   ]
  },
  {
   "cell_type": "code",
   "execution_count": 83,
   "metadata": {
    "colab": {
     "base_uri": "https://localhost:8080/"
    },
    "id": "PZQjMguJ5wbc",
    "outputId": "c1792eec-d1ce-4dbf-9644-f2afcee2ddbe"
   },
   "outputs": [
    {
     "name": "stdout",
     "output_type": "stream",
     "text": [
      "CLASS\n",
      "0.0    48754\n",
      "1.0    48754\n",
      "Name: count, dtype: int64\n",
      "Random Forest accuracy: 0.8828154377328821\n",
      "Accuracy Score for random forest model after parameter tuning is: 88.35%\n",
      "              precision    recall  f1-score   support\n",
      "\n",
      "         0.0       0.93      0.83      0.88     14646\n",
      "         1.0       0.85      0.94      0.89     14607\n",
      "\n",
      "    accuracy                           0.88     29253\n",
      "   macro avg       0.89      0.88      0.88     29253\n",
      "weighted avg       0.89      0.88      0.88     29253\n",
      "\n"
     ]
    }
   ],
   "source": [
    "imputer = SimpleImputer(strategy='mean')\n",
    "result_df = pd.DataFrame(imputer.fit_transform(result_df), columns=result_df.columns)\n",
    "\n",
    "# Separate features and target\n",
    "X = result_df.drop(['CLASS'], axis=1)\n",
    "y = result_df['CLASS']\n",
    "\n",
    "# Define class weights\n",
    "class_weights = {0: 48754, 1: 16434}\n",
    "\n",
    "# Calculate the number of samples needed to balance the classes\n",
    "total_samples = max(class_weights.values())\n",
    "sampling_strategy = {0: total_samples, 1: total_samples}\n",
    "\n",
    "# Initialize RandomOverSampler with calculated sampling strategy\n",
    "oversampler = RandomOverSampler(sampling_strategy=sampling_strategy, random_state=42)\n",
    "\n",
    "# Perform oversampling\n",
    "X_resampled, y_resampled = oversampler.fit_resample(X, y)\n",
    "\n",
    "# Create DataFrame from the resampled data\n",
    "result_balanced = pd.DataFrame(X_resampled, columns=X.columns)\n",
    "result_balanced['CLASS'] = y_resampled\n",
    "\n",
    "# Now result_balanced contains the oversampled dataset\n",
    "print(result_balanced['CLASS'].value_counts())\n",
    "\n",
    "# Split the resampled data\n",
    "X_train, X_test, y_train, y_test = train_test_split(X_resampled, y_resampled, test_size=0.3, random_state=42)\n",
    "\n",
    "\n",
    "# Initialize RandomForestClassifier\n",
    "rf_model = RandomForestClassifier(random_state=42)\n",
    "\n",
    "# Train the model\n",
    "rf_model.fit(X_train, y_train)\n",
    "\n",
    "# Print the accuracy score on the test set\n",
    "accuracy = rf_model.score(X_test, y_test)\n",
    "print(f\"Random Forest accuracy: {accuracy}\")\n",
    "y_pred = model_random.predict(X_test)\n",
    "\n",
    "# Calculate and print the accuracy\n",
    "accuracy = model_random.score(X_test, y_test)\n",
    "print(f\"Accuracy Score for random forest model after parameter tuning is: {accuracy * 100:.2f}%\")\n",
    "\n",
    "# Print the classification report\n",
    "print(classification_report(y_test, y_pred))"
   ]
  },
  {
   "cell_type": "code",
   "execution_count": 84,
   "metadata": {
    "colab": {
     "base_uri": "https://localhost:8080/",
     "height": 430
    },
    "id": "FpUbxHIi74IT",
    "outputId": "0918d426-7dc8-4e76-ff24-a56d1aab5263"
   },
   "outputs": [
    {
     "data": {
      "image/png": "[encoded data removed]",
      "text/plain": [
       "<Figure size 640x480 with 1 Axes>"
      ]
     },
     "metadata": {},
     "output_type": "display_data"
    }
   ],
   "source": [
    "from matplotlib import pyplot as plt\n",
    "import seaborn as sns\n",
    "result_balanced.groupby('CLASS').size().plot(kind='barh', color=sns.palettes.mpl_palette('Dark2'))\n",
    "plt.gca().spines[['top', 'right',]].set_visible(False)\n"
   ]
  },
  {
   "cell_type": "markdown",
   "metadata": {},
   "source": [
    "# inference \n",
    "in our pervious implementation we used SMOTE techique to handel classes unbalanced which created model with accuracy, =80% \n",
    "\n",
    "\n",
    "\n",
    "in our current implemetation wr handled unbalancing based on class weight which resulted in model accuracy we also performed label encoder manually  for specific column and  =88%\n"
   ]
  },
  {
   "cell_type": "markdown",
   "metadata": {},
   "source": [
    "## hyper paramter tunning"
   ]
  },
  {
   "cell_type": "code",
   "execution_count": 85,
   "metadata": {
    "id": "_US6heit8BVY"
   },
   "outputs": [],
   "source": [
    "import warnings\n",
    "from sklearn.model_selection import GridSearchCV ,RandomizedSearchCV\n",
    "warnings.filterwarnings(\"ignore\")"
   ]
  },
  {
   "cell_type": "code",
   "execution_count": 24,
   "metadata": {
    "colab": {
     "base_uri": "https://localhost:8080/"
    },
    "id": "s0YiJhDDe30j",
    "outputId": "9b411b74-276c-4525-8aa5-a2468b3ce7ed"
   },
   "outputs": [
    {
     "data": {
      "text/plain": [
       "{'bootstrap': True,\n",
       " 'ccp_alpha': 0.0,\n",
       " 'class_weight': None,\n",
       " 'criterion': 'gini',\n",
       " 'max_depth': None,\n",
       " 'max_features': 'sqrt',\n",
       " 'max_leaf_nodes': None,\n",
       " 'max_samples': None,\n",
       " 'min_impurity_decrease': 0.0,\n",
       " 'min_samples_leaf': 1,\n",
       " 'min_samples_split': 2,\n",
       " 'min_weight_fraction_leaf': 0.0,\n",
       " 'monotonic_cst': None,\n",
       " 'n_estimators': 100,\n",
       " 'n_jobs': None,\n",
       " 'oob_score': False,\n",
       " 'random_state': 42,\n",
       " 'verbose': 0,\n",
       " 'warm_start': False}"
      ]
     },
     "execution_count": 24,
     "metadata": {},
     "output_type": "execute_result"
    }
   ],
   "source": [
    "rf_model.get_params()"
   ]
  },
  {
   "cell_type": "code",
   "execution_count": 27,
   "metadata": {
    "id": "SwiWV3F9fmHN"
   },
   "outputs": [
    {
     "name": "stdout",
     "output_type": "stream",
     "text": [
      "Fitting 3 folds for each of 108 candidates, totalling 324 fits\n",
      "RandomForestClassifier(n_estimators=200, random_state=42)\n"
     ]
    }
   ],
   "source": [
    "from sklearn.ensemble import RandomForestClassifier\n",
    "from sklearn.model_selection import GridSearchCV\n",
    "\n",
    "# Define the parameter grid with a wider range of values\n",
    "param_grid_1 = {\n",
    "    'n_estimators': [100, 200, 300],  # Number of trees in the forest\n",
    "    'max_depth': [None, 10, 20, 30],  # Maximum depth of the tree\n",
    "    'min_samples_split': [2, 5, 10],  # Minimum number of samples required to split an internal node\n",
    "    'min_samples_leaf': [1, 2, 4],  # Minimum number of samples required to be at a leaf node\n",
    "    'max_features': ['sqrt'],  # Number of features to consider when looking for the best split \n",
    "    'bootstrap': [True],  # Whether bootstrap samples are used\n",
    "    'class_weight': [None],  # Weights associated with classes\n",
    "    'min_impurity_decrease': [0.0],  # A node will be split if this split induces a decrease of the impurity greater than or equal to this value\n",
    "    'random_state': [42]\n",
    "    \n",
    "}\n",
    "# Define the model with the random_state parameter set\n",
    "model = RandomForestClassifier(random_state=42)\n",
    "\n",
    "# Define the grid search\n",
    "grid_search = GridSearchCV(estimator=model, param_grid=param_grid_1, cv=3, n_jobs=-1, verbose=1)\n",
    "\n",
    "# Fit the grid search to your data\n",
    "grid_search.fit(X_train, y_train)\n",
    "\n",
    "# Print the best estimator\n",
    "print(grid_search.best_estimator_)\n"
   ]
  },
  {
   "cell_type": "code",
   "execution_count": 36,
   "metadata": {
    "id": "jH_68NPPw20M"
   },
   "outputs": [
    {
     "name": "stdout",
     "output_type": "stream",
     "text": [
      "Accuracy Score for random forest model after parameter tuning is: 88.35%\n",
      "              precision    recall  f1-score   support\n",
      "\n",
      "         0.0       0.93      0.83      0.88     14646\n",
      "         1.0       0.85      0.94      0.89     14607\n",
      "\n",
      "    accuracy                           0.88     29253\n",
      "   macro avg       0.89      0.88      0.88     29253\n",
      "weighted avg       0.89      0.88      0.88     29253\n",
      "\n"
     ]
    }
   ],
   "source": [
    " from sklearn.metrics import classification_report\n",
    "from sklearn.model_selection import train_test_split\n",
    "from sklearn.datasets import make_classification\n",
    "#Define the model with the best parameters found\n",
    "model_random = RandomForestClassifier( n_estimators=200, random_state=42)\n",
    "\n",
    "\n",
    "# Fit the model\n",
    "model_random.fit(X_train, y_train)\n",
    "\n",
    "# Predict on the test set\n",
    "y_pred = model_random.predict(X_test)\n",
    "\n",
    "# Calculate and print the accuracy\n",
    "accuracy = model_random.score(X_test, y_test)\n",
    "print(f\"Accuracy Score for random forest model after parameter tuning is: {accuracy * 100:.2f}%\")\n",
    "\n",
    "# Print the classification report\n",
    "print(classification_report(y_test, y_pred))"
   ]
  },
  {
   "cell_type": "code",
   "execution_count": 41,
   "metadata": {},
   "outputs": [
    {
     "name": "stdout",
     "output_type": "stream",
     "text": [
      "<class 'pandas.core.frame.DataFrame'>\n",
      "RangeIndex: 97508 entries, 0 to 97507\n",
      "Data columns (total 27 columns):\n",
      " #   Column                    Non-Null Count  Dtype  \n",
      "---  ------                    --------------  -----  \n",
      " 0   POS                       97508 non-null  float64\n",
      " 1   REF                       97508 non-null  float64\n",
      " 2   ALT                       97508 non-null  float64\n",
      " 3   AF_ESP                    97508 non-null  float64\n",
      " 4   AF_EXAC                   97508 non-null  float64\n",
      " 5   AF_TGP                    97508 non-null  float64\n",
      " 6   CLNDN                     97508 non-null  float64\n",
      " 7   CLNHGVS                   97508 non-null  float64\n",
      " 8   CLNVC                     97508 non-null  float64\n",
      " 9   ORIGIN                    97508 non-null  float64\n",
      " 10  Allele                    97508 non-null  float64\n",
      " 11  Consequence               97508 non-null  float64\n",
      " 12  IMPACT                    97508 non-null  float64\n",
      " 13  SYMBOL                    97508 non-null  float64\n",
      " 14  Feature_type              97508 non-null  float64\n",
      " 15  BIOTYPE                   97508 non-null  float64\n",
      " 16  cDNA_position             97508 non-null  float64\n",
      " 17  CDS_position              97508 non-null  float64\n",
      " 18  Protein_position          97508 non-null  float64\n",
      " 19  Amino_acids               97508 non-null  float64\n",
      " 20  Codons                    97508 non-null  float64\n",
      " 21  STRAND                    97508 non-null  float64\n",
      " 22  LoFtool                   97508 non-null  float64\n",
      " 23  CADD_PHRED                97508 non-null  float64\n",
      " 24  Allele_Freq_Mean          97508 non-null  float64\n",
      " 25  Pathogenicity_Score_Mean  97508 non-null  float64\n",
      " 26  CLASS                     97508 non-null  float64\n",
      "dtypes: float64(27)\n",
      "memory usage: 20.1 MB\n"
     ]
    }
   ],
   "source": [
    "result_balanced.info()"
   ]
  },
  {
   "cell_type": "code",
   "execution_count": null,
   "metadata": {},
   "outputs": [],
   "source": [
    "\n"
   ]
  },
  {
   "cell_type": "code",
   "execution_count": null,
   "metadata": {},
   "outputs": [],
   "source": [
    "\n",
    "\n"
   ]
  },
  {
   "cell_type": "code",
   "execution_count": null,
   "metadata": {
    "colab": {
     "base_uri": "https://localhost:8080/",
     "height": 641
    },
    "id": "HmptowXtJs-2",
    "outputId": "77f8c2a6-c90e-454d-b616-510c3d0485d7"
   },
   "outputs": [],
   "source": []
  },
  {
   "cell_type": "markdown",
   "metadata": {},
   "source": [
    "# experiments to enhance hyper paramters tunning \n",
    "note this shows  our trailes to find appropriate hyper paramters tunning \n",
    "the final result in the previpus cell"
   ]
  },
  {
   "cell_type": "markdown",
   "metadata": {},
   "source": [
    "# important interpretation\n",
    " we suggest that the following  2 trails didnot ehnance model accuracy but the reduced it  because of the type of paramters and the range of values of each paramter to search within for the gridsearch function and randomizedsearch functions\n",
    "were not \n",
    "suitable and we solved this by using get_params function to know the paramters and values of our model therefore identifying paramters and  searching range "
   ]
  },
  {
   "cell_type": "markdown",
   "metadata": {},
   "source": [
    "#### trail number1 using grid sreach algorthim "
   ]
  },
  {
   "cell_type": "code",
   "execution_count": 113,
   "metadata": {
    "id": "Yi_Ib29l8PUb"
   },
   "outputs": [],
   "source": [
    "# Define the parameter grid\n",
    "param_grid = {\n",
    "    'n_estimators': [25, 50, 100, 150],\n",
    "    'max_features': ['sqrt', 'log2', None],\n",
    "    'max_depth': [3, 6, 9],\n",
    "    'max_leaf_nodes': [3, 6, 9],\n",
    "}"
   ]
  },
  {
   "cell_type": "code",
   "execution_count": 118,
   "metadata": {
    "id": "T-EFCkbO8p4c"
   },
   "outputs": [],
   "source": [
    "grid_search = GridSearchCV(RandomForestClassifier(),\n",
    "                           param_grid=param_grid)\n",
    "grid_search.fit(X_test, y_test)\n",
    "print(grid_search.best_estimator_)"
   ]
  },
  {
   "cell_type": "code",
   "execution_count": 116,
   "metadata": {
    "colab": {
     "base_uri": "https://localhost:8080/"
    },
    "id": "8WQlRcFUO7aH",
    "outputId": "d7d3db8c-ac5b-4af4-d491-3f73582fee08"
   },
   "outputs": [
    {
     "name": "stdout",
     "output_type": "stream",
     "text": [
      "Accuracy Score for randomforest model after paramters tunning is :  67.80842990462517 %\n"
     ]
    }
   ],
   "source": [
    "model_random = RandomForestClassifier(max_depth=9,\n",
    "                                      max_features=None,\n",
    "                                      max_leaf_nodes=9,\n",
    "                                      n_estimators=150)\n",
    "model_random.fit(X_train, y_train)\n",
    "y_pred = model_random .predict(X_test)\n",
    "print(f\"Accuracy Score for randomforest model after paramters tunning is : \",model_random.score(X_test, y_test)*100,\"%\")\n"
   ]
  },
  {
   "cell_type": "markdown",
   "metadata": {
    "id": "y0vn_xjDdb13"
   },
   "source": [
    "### this resulted in reducing model accuracy from 88% to 67% \n"
   ]
  },
  {
   "cell_type": "markdown",
   "metadata": {},
   "source": [
    "## trail number 2 using randomized search algorthim "
   ]
  },
  {
   "cell_type": "code",
   "execution_count": 26,
   "metadata": {},
   "outputs": [
    {
     "name": "stdout",
     "output_type": "stream",
     "text": [
      "Fitting 3 folds for each of 100 candidates, totalling 300 fits\n",
      "{'bootstrap': True, 'class_weight': None, 'criterion': 'gini', 'max_depth': 100, 'max_features': None, 'max_leaf_nodes': None, 'min_impurity_decrease': 0.0033532434735779383, 'min_samples_leaf': 2, 'min_samples_split': 11, 'n_estimators': 54, 'oob_score': True}\n"
     ]
    }
   ],
   "source": [
    "from sklearn.ensemble import RandomForestClassifier\n",
    "from sklearn.model_selection import RandomizedSearchCV\n",
    "from scipy.stats import randint, uniform\n",
    "\n",
    "# Define the model\n",
    "model = RandomForestClassifier(random_state=42)\n",
    "\n",
    "# Define the parameter distributions\n",
    "param_distributions = {\n",
    "    'n_estimators': randint(50, 200),              # Number of trees in the forest\n",
    "    'max_features': ['sqrt', 'log2', None],        # Number of features to consider at each split\n",
    "    'max_depth': [None] + list(range(10, 110, 10)), # Maximum depth of the tree\n",
    "    'min_samples_split': randint(2, 20),           # Minimum number of samples required to split a node\n",
    "    'min_samples_leaf': randint(1, 20),            # Minimum number of samples required at each leaf node\n",
    "    'bootstrap': [True, False],                    # Whether bootstrap samples are used when building trees\n",
    "    'oob_score': [True, False],                    # Whether to use out-of-bag samples to estimate the generalization error\n",
    "    'criterion': ['gini', 'entropy'],              # Function to measure the quality of a split\n",
    "    'max_leaf_nodes': [None] + list(range(10, 100, 10)), # Maximum number of leaf nodes\n",
    "    'min_impurity_decrease': uniform(0.0, 0.1),    # Threshold for early stopping in tree growth\n",
    "    'class_weight': [None, 'balanced'],            # Weights associated with classes\n",
    "}\n",
    "\n",
    "# Configure the RandomizedSearchCV\n",
    "random_search = RandomizedSearchCV(\n",
    "    estimator=model, \n",
    "    param_distributions=param_distributions, \n",
    "    n_iter=100, \n",
    "    cv=3, \n",
    "    n_jobs=-1, \n",
    "    verbose=1, \n",
    "    random_state=42\n",
    ")\n",
    "\n",
    "# Fit the model\n",
    "random_search.fit(X_train, y_train)\n",
    "\n",
    "# Best parameters\n",
    "print(random_search.best_params_)"
   ]
  },
  {
   "cell_type": "code",
   "execution_count": 34,
   "metadata": {},
   "outputs": [
    {
     "name": "stdout",
     "output_type": "stream",
     "text": [
      "Accuracy Score for random forest model after parameter tuning is: 66.46%\n",
      "              precision    recall  f1-score   support\n",
      "\n",
      "         0.0       0.65      0.71      0.68     14646\n",
      "         1.0       0.68      0.61      0.65     14607\n",
      "\n",
      "    accuracy                           0.66     29253\n",
      "   macro avg       0.67      0.66      0.66     29253\n",
      "weighted avg       0.67      0.66      0.66     29253\n",
      "\n"
     ]
    }
   ],
   "source": [
    " from sklearn.metrics import classification_report\n",
    "from sklearn.model_selection import train_test_split\n",
    "from sklearn.datasets import make_classification\n",
    "#Define the model with the best parameters found\n",
    "model_random = RandomForestClassifier(\n",
    "    bootstrap=True, \n",
    "    class_weight=None, \n",
    "    criterion='gini', \n",
    "    max_depth=100, \n",
    "    max_features=None, \n",
    "    max_leaf_nodes=None, \n",
    "    min_impurity_decrease=0.0033532434735779383,\n",
    "    min_samples_leaf=2, \n",
    "    min_samples_split=11, \n",
    "    n_estimators=54, \n",
    "    oob_score=True,\n",
    ")\n",
    "\n",
    "# Fit the model\n",
    "model_random.fit(X_train, y_train)\n",
    "\n",
    "# Predict on the test set\n",
    "y_pred = model_random.predict(X_test)\n",
    "\n",
    "# Calculate and print the accuracy\n",
    "accuracy = model_random.score(X_test, y_test)\n",
    "print(f\"Accuracy Score for random forest model after parameter tuning is: {accuracy * 100:.2f}%\")\n",
    "\n",
    "# Print the classification report\n",
    "print(classification_report(y_test, y_pred))"
   ]
  },
  {
   "cell_type": "markdown",
   "metadata": {
    "colab": {
     "base_uri": "https://localhost:8080/",
     "height": 304
    },
    "id": "yCLd4andeI-j",
    "outputId": "8d6a61e3-6322-4d99-db46-c893b3b300c4"
   },
   "source": [
    "### this resulted in reduce model accuracy from 88% to 64%"
   ]
  },
  {
   "cell_type": "code",
   "execution_count": 28,
   "metadata": {},
   "outputs": [],
   "source": [
    "\n"
   ]
  },
  {
   "cell_type": "code",
   "execution_count": null,
   "metadata": {},
   "outputs": [],
   "source": []
  },
  {
   "cell_type": "code",
   "execution_count": 35,
   "metadata": {
    "id": "P4Na3tcffgTa"
   },
   "outputs": [],
   "source": []
  },
  {
   "cell_type": "code",
   "execution_count": null,
   "metadata": {
    "colab": {
     "base_uri": "https://localhost:8080/",
     "height": 1000
    },
    "id": "eUqATWtQAkfg",
    "outputId": "06279037-f5e7-49e0-c947-8450b66ceef2"
   },
   "outputs": [],
   "source": []
  },
  {
   "cell_type": "code",
   "execution_count": null,
   "metadata": {
    "colab": {
     "base_uri": "https://localhost:8080/"
    },
    "id": "BP2UwNy4KpJo",
    "outputId": "dcba4d24-885e-4d31-c60f-b0936f435ab9"
   },
   "outputs": [],
   "source": []
  },
  {
   "cell_type": "code",
   "execution_count": null,
   "metadata": {},
   "outputs": [],
   "source": []
  }
 ],
 "metadata": {
  "colab": {
   "provenance": []
  },
  "kernelspec": {
   "display_name": "Python 3 (ipykernel)",
   "language": "python",
   "name": "python3"
  },
  "language_info": {
   "codemirror_mode": {
    "name": "ipython",
    "version": 3
   },
   "file_extension": ".py",
   "mimetype": "text/x-python",
   "name": "python",
   "nbconvert_exporter": "python",
   "pygments_lexer": "ipython3",
   "version": "3.11.5"
  }
 },
 "nbformat": 4,
 "nbformat_minor": 1
}
